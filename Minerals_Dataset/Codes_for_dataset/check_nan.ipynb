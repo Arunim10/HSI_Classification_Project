{
 "cells": [
  {
   "cell_type": "code",
   "execution_count": 3,
   "metadata": {},
   "outputs": [
    {
     "name": "stderr",
     "output_type": "stream",
     "text": [
      " 58%|█████▊    | 177/304 [03:07<02:28,  1.17s/it]"
     ]
    },
    {
     "name": "stdout",
     "output_type": "stream",
     "text": [
      "D:\\Machine Learning\\Texmin_HSI\\HSI_Classification_Updated\\Minerals_Dataset\\Minerals_mat_files\\0082_A.mat\n"
     ]
    },
    {
     "name": "stderr",
     "output_type": "stream",
     "text": [
      " 59%|█████▉    | 179/304 [03:10<02:39,  1.28s/it]"
     ]
    },
    {
     "name": "stdout",
     "output_type": "stream",
     "text": [
      "D:\\Machine Learning\\Texmin_HSI\\HSI_Classification_Updated\\Minerals_Dataset\\Minerals_mat_files\\0083_A.mat\n"
     ]
    },
    {
     "name": "stderr",
     "output_type": "stream",
     "text": [
      " 60%|█████▉    | 181/304 [03:13<02:45,  1.35s/it]"
     ]
    },
    {
     "name": "stdout",
     "output_type": "stream",
     "text": [
      "D:\\Machine Learning\\Texmin_HSI\\HSI_Classification_Updated\\Minerals_Dataset\\Minerals_mat_files\\0084_A.mat\n"
     ]
    },
    {
     "name": "stderr",
     "output_type": "stream",
     "text": [
      " 60%|██████    | 183/304 [03:16<02:42,  1.34s/it]"
     ]
    },
    {
     "name": "stdout",
     "output_type": "stream",
     "text": [
      "D:\\Machine Learning\\Texmin_HSI\\HSI_Classification_Updated\\Minerals_Dataset\\Minerals_mat_files\\0085_A.mat\n"
     ]
    },
    {
     "name": "stderr",
     "output_type": "stream",
     "text": [
      " 62%|██████▏   | 187/304 [03:22<02:40,  1.37s/it]"
     ]
    },
    {
     "name": "stdout",
     "output_type": "stream",
     "text": [
      "D:\\Machine Learning\\Texmin_HSI\\HSI_Classification_Updated\\Minerals_Dataset\\Minerals_mat_files\\0086_A.mat\n"
     ]
    },
    {
     "name": "stderr",
     "output_type": "stream",
     "text": [
      " 63%|██████▎   | 191/304 [03:26<02:21,  1.25s/it]"
     ]
    },
    {
     "name": "stdout",
     "output_type": "stream",
     "text": [
      "D:\\Machine Learning\\Texmin_HSI\\HSI_Classification_Updated\\Minerals_Dataset\\Minerals_mat_files\\0087_A.mat\n"
     ]
    },
    {
     "name": "stderr",
     "output_type": "stream",
     "text": [
      " 63%|██████▎   | 193/304 [03:28<02:07,  1.15s/it]"
     ]
    },
    {
     "name": "stdout",
     "output_type": "stream",
     "text": [
      "D:\\Machine Learning\\Texmin_HSI\\HSI_Classification_Updated\\Minerals_Dataset\\Minerals_mat_files\\0087_B.mat\n"
     ]
    },
    {
     "name": "stderr",
     "output_type": "stream",
     "text": [
      " 65%|██████▌   | 199/304 [03:34<01:47,  1.02s/it]"
     ]
    },
    {
     "name": "stdout",
     "output_type": "stream",
     "text": [
      "D:\\Machine Learning\\Texmin_HSI\\HSI_Classification_Updated\\Minerals_Dataset\\Minerals_mat_files\\0089_A.mat\n"
     ]
    },
    {
     "name": "stderr",
     "output_type": "stream",
     "text": [
      " 66%|██████▌   | 201/304 [03:36<01:48,  1.05s/it]"
     ]
    },
    {
     "name": "stdout",
     "output_type": "stream",
     "text": [
      "D:\\Machine Learning\\Texmin_HSI\\HSI_Classification_Updated\\Minerals_Dataset\\Minerals_mat_files\\0089_B.mat\n"
     ]
    },
    {
     "name": "stderr",
     "output_type": "stream",
     "text": [
      " 67%|██████▋   | 203/304 [03:39<02:01,  1.21s/it]"
     ]
    },
    {
     "name": "stdout",
     "output_type": "stream",
     "text": [
      "D:\\Machine Learning\\Texmin_HSI\\HSI_Classification_Updated\\Minerals_Dataset\\Minerals_mat_files\\0090_A.mat\n"
     ]
    },
    {
     "name": "stderr",
     "output_type": "stream",
     "text": [
      " 68%|██████▊   | 207/304 [03:45<02:09,  1.33s/it]"
     ]
    },
    {
     "name": "stdout",
     "output_type": "stream",
     "text": [
      "D:\\Machine Learning\\Texmin_HSI\\HSI_Classification_Updated\\Minerals_Dataset\\Minerals_mat_files\\0091_A.mat\n"
     ]
    },
    {
     "name": "stderr",
     "output_type": "stream",
     "text": [
      " 69%|██████▉   | 209/304 [03:48<02:09,  1.36s/it]"
     ]
    },
    {
     "name": "stdout",
     "output_type": "stream",
     "text": [
      "D:\\Machine Learning\\Texmin_HSI\\HSI_Classification_Updated\\Minerals_Dataset\\Minerals_mat_files\\0091_B.mat\n"
     ]
    },
    {
     "name": "stderr",
     "output_type": "stream",
     "text": [
      " 69%|██████▉   | 211/304 [03:51<02:10,  1.40s/it]"
     ]
    },
    {
     "name": "stdout",
     "output_type": "stream",
     "text": [
      "D:\\Machine Learning\\Texmin_HSI\\HSI_Classification_Updated\\Minerals_Dataset\\Minerals_mat_files\\0092_A.mat\n"
     ]
    },
    {
     "name": "stderr",
     "output_type": "stream",
     "text": [
      " 70%|███████   | 213/304 [03:54<02:04,  1.36s/it]"
     ]
    },
    {
     "name": "stdout",
     "output_type": "stream",
     "text": [
      "D:\\Machine Learning\\Texmin_HSI\\HSI_Classification_Updated\\Minerals_Dataset\\Minerals_mat_files\\0092_B.mat\n"
     ]
    },
    {
     "name": "stderr",
     "output_type": "stream",
     "text": [
      " 71%|███████   | 215/304 [03:56<01:55,  1.30s/it]"
     ]
    },
    {
     "name": "stdout",
     "output_type": "stream",
     "text": [
      "D:\\Machine Learning\\Texmin_HSI\\HSI_Classification_Updated\\Minerals_Dataset\\Minerals_mat_files\\0093_A.mat\n"
     ]
    },
    {
     "name": "stderr",
     "output_type": "stream",
     "text": [
      "100%|██████████| 304/304 [05:29<00:00,  1.08s/it]\n"
     ]
    }
   ],
   "source": [
    "import h5py\n",
    "from glob import glob\n",
    "from scipy.io import loadmat\n",
    "import numpy as np\n",
    "from tqdm import tqdm\n",
    "mat_files = list(glob(\"D:\\\\Machine Learning\\\\Texmin_HSI\\\\HSI_Classification_Updated\\\\Minerals_Dataset\\\\Minerals_mat_files\\\\*.mat\"))\n",
    "for file in tqdm(mat_files,total=len(mat_files)):\n",
    "    if \"_gt\" not in file.split(\"\\\\\")[-1]:\n",
    "        hdr = loadmat(file)['HDR']\n",
    "        if np.isnan(hdr).any():\n",
    "            print(file)\n",
    "    else:\n",
    "        mask = loadmat(file)['MASK']\n",
    "        if np.isnan(mask).any():\n",
    "            print(file) "
   ]
  },
  {
   "cell_type": "code",
   "execution_count": null,
   "metadata": {},
   "outputs": [],
   "source": []
  }
 ],
 "metadata": {
  "kernelspec": {
   "display_name": "transformers",
   "language": "python",
   "name": "python3"
  },
  "language_info": {
   "codemirror_mode": {
    "name": "ipython",
    "version": 3
   },
   "file_extension": ".py",
   "mimetype": "text/x-python",
   "name": "python",
   "nbconvert_exporter": "python",
   "pygments_lexer": "ipython3",
   "version": "3.12.2"
  }
 },
 "nbformat": 4,
 "nbformat_minor": 2
}
